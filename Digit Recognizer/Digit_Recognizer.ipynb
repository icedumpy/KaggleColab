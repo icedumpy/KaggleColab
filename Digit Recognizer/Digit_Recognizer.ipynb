{
  "nbformat": 4,
  "nbformat_minor": 0,
  "metadata": {
    "accelerator": "GPU",
    "colab": {
      "name": "Digit Recognizer.ipynb",
      "provenance": [],
      "collapsed_sections": [],
      "toc_visible": true,
      "authorship_tag": "ABX9TyN6oB8c7ZkkcIJzrnAk/B/7",
      "include_colab_link": true
    },
    "kernelspec": {
      "display_name": "Python 3",
      "name": "python3"
    }
  },
  "cells": [
    {
      "cell_type": "markdown",
      "metadata": {
        "id": "view-in-github",
        "colab_type": "text"
      },
      "source": [
        "<a href=\"https://colab.research.google.com/github/icedumpy/KaggleColab/blob/main/Digit%20Recognizer/Digit_Recognizer.ipynb\" target=\"_parent\"><img src=\"https://colab.research.google.com/assets/colab-badge.svg\" alt=\"Open In Colab\"/></a>"
      ]
    },
    {
      "cell_type": "markdown",
      "metadata": {
        "id": "omIoiMSFc5uZ"
      },
      "source": [
        "#Mount drive"
      ]
    },
    {
      "cell_type": "code",
      "metadata": {
        "colab": {
          "base_uri": "https://localhost:8080/"
        },
        "id": "DFyfDbHfDuEV",
        "outputId": "7246eb3a-f0cf-47cb-c7b7-38990c764b24"
      },
      "source": [
        "from google.colab import drive\n",
        "drive.mount('/gdrive')\n",
        "%cd /gdrive/MyDrive/Kaggle"
      ],
      "execution_count": null,
      "outputs": [
        {
          "output_type": "stream",
          "text": [
            "Mounted at /gdrive\n",
            "/gdrive/MyDrive/Kaggle\n"
          ],
          "name": "stdout"
        }
      ]
    },
    {
      "cell_type": "markdown",
      "metadata": {
        "id": "sy35ZbFzc4Q_"
      },
      "source": [
        "# Import libraries"
      ]
    },
    {
      "cell_type": "code",
      "metadata": {
        "id": "QWP5Sb0WG6LB"
      },
      "source": [
        "import os\n",
        "import numpy as np\n",
        "import pandas as pd\n",
        "import tensorflow as tf\n",
        "from tensorflow import keras\n",
        "import matplotlib.pyplot as plt\n",
        "from sklearn.model_selection import train_test_split\n",
        "from keras.preprocessing.image import ImageDataGenerator\n",
        "from tensorflow.keras.callbacks import ModelCheckpoint, ReduceLROnPlateau, EarlyStopping"
      ],
      "execution_count": null,
      "outputs": []
    },
    {
      "cell_type": "markdown",
      "metadata": {
        "id": "m93bLUQmddmx"
      },
      "source": [
        "# Execute"
      ]
    },
    {
      "cell_type": "markdown",
      "metadata": {
        "id": "OoPDSfZ98aDp"
      },
      "source": [
        "## Load data"
      ]
    },
    {
      "cell_type": "code",
      "metadata": {
        "id": "_fSaiNcScsVi"
      },
      "source": [
        "df_train = pd.read_csv(\"Digit Recognizer/train.csv\")\n",
        "df_test  = pd.read_csv(\"Digit Recognizer/test.csv\")\n",
        "\n",
        "df_submission  = pd.read_csv(\"Digit Recognizer/submission.csv\")"
      ],
      "execution_count": null,
      "outputs": []
    },
    {
      "cell_type": "markdown",
      "metadata": {
        "id": "OMe7cNfc8cTC"
      },
      "source": [
        "## Get data  (image, label)"
      ]
    },
    {
      "cell_type": "code",
      "metadata": {
        "id": "gaNHDxCHdaQp"
      },
      "source": [
        "x = df_train.iloc[:, 1:].values.astype(\"uint8\")\n",
        "y = df_train[\"label\"].values.astype(\"uint8\")\n",
        "\n",
        "x_test = df_test.values.astype(\"uint8\")"
      ],
      "execution_count": null,
      "outputs": []
    },
    {
      "cell_type": "markdown",
      "metadata": {
        "id": "9e6PcHU88jqI"
      },
      "source": [
        "## Reshape image (1D -> 2D) and Normalize (scale [0, 1])"
      ]
    },
    {
      "cell_type": "code",
      "metadata": {
        "id": "8VEseSxt8pQR"
      },
      "source": [
        "x = x.reshape(-1, 28, 28, 1)\n",
        "x_test  = x_test.reshape(-1, 28, 28, 1)\n",
        "\n",
        "# x = x/255.0\n",
        "# x_test  = x_test/255.0"
      ],
      "execution_count": null,
      "outputs": []
    },
    {
      "cell_type": "markdown",
      "metadata": {
        "id": "svFS2d3UD45e"
      },
      "source": [
        "## Split data into train, validation"
      ]
    },
    {
      "cell_type": "code",
      "metadata": {
        "id": "_Vu4VgKwEFWO"
      },
      "source": [
        "x_train, x_val, y_train, y_val = train_test_split(x, y, test_size=0.1, random_state=112)\n",
        "\n",
        "mean = x_train.mean()\n",
        "std = x_train.std()\n",
        "\n",
        "x_train = (x_train-mean)/std\n",
        "x_val = (x_val-mean)/std\n",
        "x_test = (x_test-mean)/std"
      ],
      "execution_count": null,
      "outputs": []
    },
    {
      "cell_type": "markdown",
      "metadata": {
        "id": "bNX9R3CQ9UoG"
      },
      "source": [
        "## Visualize "
      ]
    },
    {
      "cell_type": "code",
      "metadata": {
        "colab": {
          "base_uri": "https://localhost:8080/",
          "height": 589
        },
        "id": "qU8-B8hSex3P",
        "outputId": "71a7e4e9-5924-4fec-ef5f-1ad2ac6f6654"
      },
      "source": [
        "plt.figure(figsize=(10,10))\n",
        "for i in range(25):\n",
        "    index = np.random.randint(0, len(x_train)+1)\n",
        "    plt.subplot(5,5,i+1)\n",
        "    plt.imshow(x_train[index, :, :, 0], cmap='gray')\n",
        "    plt.xlabel(y_train[index])\n",
        "    plt.grid(False)\n",
        "    plt.xticks([])\n",
        "    plt.yticks([])\n",
        "plt.show()"
      ],
      "execution_count": null,
      "outputs": [
        {
          "output_type": "display_data",
          "data": {
            "image/png": "[encoded data removed]",
            "text/plain": [
              "<Figure size 720x720 with 25 Axes>"
            ]
          },
          "metadata": {
            "tags": []
          }
        }
      ]
    },
    {
      "cell_type": "markdown",
      "metadata": {
        "id": "7TfGi6kI9wYW"
      },
      "source": [
        "## Define model"
      ]
    },
    {
      "cell_type": "code",
      "metadata": {
        "colab": {
          "base_uri": "https://localhost:8080/"
        },
        "id": "lUiNVokn1q4S",
        "outputId": "b8826c56-6019-460f-91a1-40c4bb624246"
      },
      "source": [
        "\n",
        "input = keras.layers.Input((28, 28, 1))\n",
        "x = keras.layers.Conv2D(filters=64, kernel_size=(3, 3), strides=(1, 1), padding=\"valid\", kernel_initializer='he_uniform')(input)\n",
        "x = keras.layers.BatchNormalization()(x)\n",
        "x = keras.layers.LeakyReLU()(x)\n",
        "x = keras.layers.Conv2D(filters=64, kernel_size=(3, 3), strides=(1, 1), padding=\"valid\", kernel_initializer='he_uniform')(x)\n",
        "x = keras.layers.BatchNormalization()(x)\n",
        "x = keras.layers.LeakyReLU()(x)\n",
        "x = keras.layers.Conv2D(filters=64, kernel_size=(3, 3), strides=(1, 1), padding=\"valid\", kernel_initializer='he_uniform')(x)\n",
        "x = keras.layers.BatchNormalization()(x)\n",
        "x = keras.layers.LeakyReLU()(x)\n",
        "x = keras.layers.Dropout(0.4)(x)\n",
        "\n",
        "x = keras.layers.Conv2D(filters=128, kernel_size=(3, 3), strides=(2, 2), padding=\"valid\", kernel_initializer='he_uniform')(x)\n",
        "x = keras.layers.BatchNormalization()(x)\n",
        "x = keras.layers.LeakyReLU()(x)\n",
        "\n",
        "x = keras.layers.Conv2D(filters=128, kernel_size=(3, 3), strides=(1, 1), padding=\"valid\", kernel_initializer='he_uniform')(x)\n",
        "x = keras.layers.BatchNormalization()(x)\n",
        "x = keras.layers.LeakyReLU()(x)\n",
        "x = keras.layers.Conv2D(filters=128, kernel_size=(3, 3), strides=(1, 1), padding=\"valid\", kernel_initializer='he_uniform')(x)\n",
        "x = keras.layers.BatchNormalization()(x)\n",
        "x = keras.layers.LeakyReLU()(x)\n",
        "x = keras.layers.Conv2D(filters=128, kernel_size=(3, 3), strides=(1, 1), padding=\"valid\", kernel_initializer='he_uniform')(x)\n",
        "x = keras.layers.BatchNormalization()(x)\n",
        "x = keras.layers.LeakyReLU()(x)\n",
        "x = keras.layers.Dropout(0.4)(x)\n",
        "\n",
        "x = keras.layers.GlobalAveragePooling2D()(x)\n",
        "\n",
        "x = keras.layers.Dense(128)(x)\n",
        "x = keras.layers.BatchNormalization()(x)\n",
        "x = keras.layers.LeakyReLU()(x)\n",
        "\n",
        "x = keras.layers.Dense(10, activation=\"softmax\")(x)\n",
        "\n",
        "model = keras.Model(inputs=input, outputs=x)\n",
        "model.summary()"
      ],
      "execution_count": null,
      "outputs": [
        {
          "output_type": "stream",
          "text": [
            "Model: \"functional_1\"\n",
            "_________________________________________________________________\n",
            "Layer (type)                 Output Shape              Param #   \n",
            "=================================================================\n",
            "input_1 (InputLayer)         [(None, 28, 28, 1)]       0         \n",
            "_________________________________________________________________\n",
            "conv2d (Conv2D)              (None, 26, 26, 64)        640       \n",
            "_________________________________________________________________\n",
            "batch_normalization (BatchNo (None, 26, 26, 64)        256       \n",
            "_________________________________________________________________\n",
            "leaky_re_lu (LeakyReLU)      (None, 26, 26, 64)        0         \n",
            "_________________________________________________________________\n",
            "conv2d_1 (Conv2D)            (None, 24, 24, 64)        36928     \n",
            "_________________________________________________________________\n",
            "batch_normalization_1 (Batch (None, 24, 24, 64)        256       \n",
            "_________________________________________________________________\n",
            "leaky_re_lu_1 (LeakyReLU)    (None, 24, 24, 64)        0         \n",
            "_________________________________________________________________\n",
            "conv2d_2 (Conv2D)            (None, 22, 22, 64)        36928     \n",
            "_________________________________________________________________\n",
            "batch_normalization_2 (Batch (None, 22, 22, 64)        256       \n",
            "_________________________________________________________________\n",
            "leaky_re_lu_2 (LeakyReLU)    (None, 22, 22, 64)        0         \n",
            "_________________________________________________________________\n",
            "dropout (Dropout)            (None, 22, 22, 64)        0         \n",
            "_________________________________________________________________\n",
            "conv2d_3 (Conv2D)            (None, 10, 10, 128)       73856     \n",
            "_________________________________________________________________\n",
            "batch_normalization_3 (Batch (None, 10, 10, 128)       512       \n",
            "_________________________________________________________________\n",
            "leaky_re_lu_3 (LeakyReLU)    (None, 10, 10, 128)       0         \n",
            "_________________________________________________________________\n",
            "conv2d_4 (Conv2D)            (None, 8, 8, 128)         147584    \n",
            "_________________________________________________________________\n",
            "batch_normalization_4 (Batch (None, 8, 8, 128)         512       \n",
            "_________________________________________________________________\n",
            "leaky_re_lu_4 (LeakyReLU)    (None, 8, 8, 128)         0         \n",
            "_________________________________________________________________\n",
            "conv2d_5 (Conv2D)            (None, 6, 6, 128)         147584    \n",
            "_________________________________________________________________\n",
            "batch_normalization_5 (Batch (None, 6, 6, 128)         512       \n",
            "_________________________________________________________________\n",
            "leaky_re_lu_5 (LeakyReLU)    (None, 6, 6, 128)         0         \n",
            "_________________________________________________________________\n",
            "conv2d_6 (Conv2D)            (None, 4, 4, 128)         147584    \n",
            "_________________________________________________________________\n",
            "batch_normalization_6 (Batch (None, 4, 4, 128)         512       \n",
            "_________________________________________________________________\n",
            "leaky_re_lu_6 (LeakyReLU)    (None, 4, 4, 128)         0         \n",
            "_________________________________________________________________\n",
            "dropout_1 (Dropout)          (None, 4, 4, 128)         0         \n",
            "_________________________________________________________________\n",
            "global_average_pooling2d (Gl (None, 128)               0         \n",
            "_________________________________________________________________\n",
            "dense (Dense)                (None, 128)               16512     \n",
            "_________________________________________________________________\n",
            "batch_normalization_7 (Batch (None, 128)               512       \n",
            "_________________________________________________________________\n",
            "leaky_re_lu_7 (LeakyReLU)    (None, 128)               0         \n",
            "_________________________________________________________________\n",
            "dense_1 (Dense)              (None, 10)                1290      \n",
            "=================================================================\n",
            "Total params: 612,234\n",
            "Trainable params: 610,570\n",
            "Non-trainable params: 1,664\n",
            "_________________________________________________________________\n"
          ],
          "name": "stdout"
        }
      ]
    },
    {
      "cell_type": "markdown",
      "metadata": {
        "id": "mE5X2nqpDGW6"
      },
      "source": [
        "## Complie model"
      ]
    },
    {
      "cell_type": "code",
      "metadata": {
        "id": "-Yy--iuK29kj"
      },
      "source": [
        "model.compile(\n",
        "    optimizer='adam',\n",
        "    loss=tf.keras.losses.SparseCategoricalCrossentropy(from_logits=True),\n",
        "    metrics=['accuracy']\n",
        ")"
      ],
      "execution_count": null,
      "outputs": []
    },
    {
      "cell_type": "markdown",
      "metadata": {
        "id": "ZI9WYPGCDINf"
      },
      "source": [
        "## Define callbacks"
      ]
    },
    {
      "cell_type": "code",
      "metadata": {
        "id": "jWRmxrkvDKTd"
      },
      "source": [
        "checkpoint = ModelCheckpoint(\"Digit Recognizer/model.hdf5\", monitor='val_accuracy', verbose= 2, save_best_only=True, mode='max')\n",
        "reduce_lr = ReduceLROnPlateau(monitor='val_loss', factor=0.1, patience=20, min_lr=1e-8, verbose=2)\n",
        "earlystop = EarlyStopping(monitor='val_loss', mode='min', patience=50, verbose=2)\n",
        "callbacks_list = [checkpoint, reduce_lr, earlystop]"
      ],
      "execution_count": null,
      "outputs": []
    },
    {
      "cell_type": "markdown",
      "metadata": {
        "id": "QNJ1ndmBF6cF"
      },
      "source": [
        "## Calculate class weight"
      ]
    },
    {
      "cell_type": "code",
      "metadata": {
        "colab": {
          "base_uri": "https://localhost:8080/"
        },
        "id": "4MZRvzdjF8NT",
        "outputId": "937f68f7-a63e-43f8-fa92-ecd6840fc2ae"
      },
      "source": [
        "class_weight = y_train.shape[0]/(10*np.bincount(y_train))\n",
        "class_weight_dict = dict(enumerate(class_weight))\n",
        "class_weight_dict"
      ],
      "execution_count": null,
      "outputs": [
        {
          "output_type": "execute_result",
          "data": {
            "text/plain": [
              "{0: 1.019142626044756,\n",
              " 1: 0.9006433166547534,\n",
              " 2: 1.0053191489361701,\n",
              " 3: 0.9717223650385605,\n",
              " 4: 1.0161290322580645,\n",
              " 5: 1.1078546307151231,\n",
              " 6: 1.0120481927710843,\n",
              " 7: 0.9483191169091821,\n",
              " 8: 1.0421836228287842,\n",
              " 9: 1.004250797024442}"
            ]
          },
          "metadata": {
            "tags": []
          },
          "execution_count": 11
        }
      ]
    },
    {
      "cell_type": "markdown",
      "metadata": {
        "id": "Kx5jlqCAKpY0"
      },
      "source": [
        "## Define datagenerator (for Augmentation)"
      ]
    },
    {
      "cell_type": "code",
      "metadata": {
        "id": "s9-WcBoiKo8N"
      },
      "source": [
        "datagen = ImageDataGenerator(\n",
        "    rotation_range=10,\n",
        "    width_shift_range=0.1,\n",
        "    height_shift_range=0.1,\n",
        ")"
      ],
      "execution_count": null,
      "outputs": []
    },
    {
      "cell_type": "code",
      "metadata": {
        "colab": {
          "base_uri": "https://localhost:8080/"
        },
        "id": "zqw4Gc2D3Cca",
        "outputId": "d17aa002-e1fd-46cd-8166-a80492ee3b03"
      },
      "source": [
        "model.fit(\n",
        "    datagen.flow(x_train, y_train, batch_size=128), \n",
        "    steps_per_epoch=len(x_train)//128,\n",
        "    validation_data = (x_val, y_val),\n",
        "    epochs=150,\n",
        "    callbacks = callbacks_list,\n",
        "    class_weight = class_weight_dict\n",
        "    )"
      ],
      "execution_count": null,
      "outputs": [
        {
          "output_type": "stream",
          "text": [
            "Epoch 1/150\n",
            "295/295 [==============================] - ETA: 0s - loss: 1.5791 - accuracy: 0.9066\n",
            "Epoch 00001: val_accuracy improved from -inf to 0.95524, saving model to Digit Recognizer/model.hdf5\n",
            "295/295 [==============================] - 11s 39ms/step - loss: 1.5791 - accuracy: 0.9066 - val_loss: 1.5101 - val_accuracy: 0.9552\n",
            "Epoch 2/150\n",
            "295/295 [==============================] - ETA: 0s - loss: 1.5031 - accuracy: 0.9651\n",
            "Epoch 00002: val_accuracy improved from 0.95524 to 0.98357, saving model to Digit Recognizer/model.hdf5\n",
            "295/295 [==============================] - 11s 36ms/step - loss: 1.5031 - accuracy: 0.9651 - val_loss: 1.4782 - val_accuracy: 0.9836\n",
            "Epoch 3/150\n",
            "294/295 [============================>.] - ETA: 0s - loss: 1.4917 - accuracy: 0.9735\n",
            "Epoch 00003: val_accuracy did not improve from 0.98357\n",
            "295/295 [==============================] - 10s 35ms/step - loss: 1.4918 - accuracy: 0.9734 - val_loss: 1.4854 - val_accuracy: 0.9764\n",
            "Epoch 4/150\n",
            "294/295 [============================>.] - ETA: 0s - loss: 1.4895 - accuracy: 0.9753\n",
            "Epoch 00004: val_accuracy did not improve from 0.98357\n",
            "295/295 [==============================] - 10s 35ms/step - loss: 1.4896 - accuracy: 0.9752 - val_loss: 1.4883 - val_accuracy: 0.9748\n",
            "Epoch 5/150\n",
            "295/295 [==============================] - ETA: 0s - loss: 1.4851 - accuracy: 0.9784\n",
            "Epoch 00005: val_accuracy improved from 0.98357 to 0.98476, saving model to Digit Recognizer/model.hdf5\n",
            "295/295 [==============================] - 11s 37ms/step - loss: 1.4851 - accuracy: 0.9784 - val_loss: 1.4764 - val_accuracy: 0.9848\n",
            "Epoch 6/150\n",
            "294/295 [============================>.] - ETA: 0s - loss: 1.4840 - accuracy: 0.9794\n",
            "Epoch 00006: val_accuracy did not improve from 0.98476\n",
            "295/295 [==============================] - 10s 35ms/step - loss: 1.4840 - accuracy: 0.9795 - val_loss: 1.4815 - val_accuracy: 0.9790\n",
            "Epoch 7/150\n",
            "294/295 [============================>.] - ETA: 0s - loss: 1.4825 - accuracy: 0.9804\n",
            "Epoch 00007: val_accuracy improved from 0.98476 to 0.98643, saving model to Digit Recognizer/model.hdf5\n",
            "295/295 [==============================] - 11s 37ms/step - loss: 1.4826 - accuracy: 0.9804 - val_loss: 1.4751 - val_accuracy: 0.9864\n",
            "Epoch 8/150\n",
            "294/295 [============================>.] - ETA: 0s - loss: 1.4819 - accuracy: 0.9811\n",
            "Epoch 00008: val_accuracy did not improve from 0.98643\n",
            "295/295 [==============================] - 10s 35ms/step - loss: 1.4819 - accuracy: 0.9811 - val_loss: 1.4769 - val_accuracy: 0.9845\n",
            "Epoch 9/150\n",
            "295/295 [==============================] - ETA: 0s - loss: 1.4804 - accuracy: 0.9822\n",
            "Epoch 00009: val_accuracy did not improve from 0.98643\n",
            "295/295 [==============================] - 10s 35ms/step - loss: 1.4804 - accuracy: 0.9822 - val_loss: 1.4773 - val_accuracy: 0.9845\n",
            "Epoch 10/150\n",
            "294/295 [============================>.] - ETA: 0s - loss: 1.4805 - accuracy: 0.9821\n",
            "Epoch 00010: val_accuracy did not improve from 0.98643\n",
            "295/295 [==============================] - 10s 35ms/step - loss: 1.4805 - accuracy: 0.9821 - val_loss: 1.4807 - val_accuracy: 0.9826\n",
            "Epoch 11/150\n",
            "294/295 [============================>.] - ETA: 0s - loss: 1.4796 - accuracy: 0.9829\n",
            "Epoch 00011: val_accuracy improved from 0.98643 to 0.98762, saving model to Digit Recognizer/model.hdf5\n",
            "295/295 [==============================] - 11s 37ms/step - loss: 1.4796 - accuracy: 0.9829 - val_loss: 1.4740 - val_accuracy: 0.9876\n",
            "Epoch 12/150\n",
            "294/295 [============================>.] - ETA: 0s - loss: 1.4784 - accuracy: 0.9834\n",
            "Epoch 00012: val_accuracy did not improve from 0.98762\n",
            "295/295 [==============================] - 10s 35ms/step - loss: 1.4784 - accuracy: 0.9835 - val_loss: 1.4743 - val_accuracy: 0.9869\n",
            "Epoch 13/150\n",
            "294/295 [============================>.] - ETA: 0s - loss: 1.4788 - accuracy: 0.9836\n",
            "Epoch 00013: val_accuracy did not improve from 0.98762\n",
            "295/295 [==============================] - 10s 35ms/step - loss: 1.4788 - accuracy: 0.9836 - val_loss: 1.4755 - val_accuracy: 0.9864\n",
            "Epoch 14/150\n",
            "294/295 [============================>.] - ETA: 0s - loss: 1.4784 - accuracy: 0.9842\n",
            "Epoch 00014: val_accuracy improved from 0.98762 to 0.98905, saving model to Digit Recognizer/model.hdf5\n",
            "295/295 [==============================] - 11s 37ms/step - loss: 1.4784 - accuracy: 0.9842 - val_loss: 1.4720 - val_accuracy: 0.9890\n",
            "Epoch 15/150\n",
            "295/295 [==============================] - ETA: 0s - loss: 1.4769 - accuracy: 0.9853\n",
            "Epoch 00015: val_accuracy did not improve from 0.98905\n",
            "295/295 [==============================] - 11s 36ms/step - loss: 1.4769 - accuracy: 0.9853 - val_loss: 1.4757 - val_accuracy: 0.9857\n",
            "Epoch 16/150\n",
            "294/295 [============================>.] - ETA: 0s - loss: 1.4769 - accuracy: 0.9849\n",
            "Epoch 00016: val_accuracy did not improve from 0.98905\n",
            "295/295 [==============================] - 10s 36ms/step - loss: 1.4769 - accuracy: 0.9849 - val_loss: 1.4726 - val_accuracy: 0.9886\n",
            "Epoch 17/150\n",
            "295/295 [==============================] - ETA: 0s - loss: 1.4777 - accuracy: 0.9842\n",
            "Epoch 00017: val_accuracy did not improve from 0.98905\n",
            "295/295 [==============================] - 10s 35ms/step - loss: 1.4777 - accuracy: 0.9842 - val_loss: 1.4775 - val_accuracy: 0.9838\n",
            "Epoch 18/150\n",
            "294/295 [============================>.] - ETA: 0s - loss: 1.4755 - accuracy: 0.9864\n",
            "Epoch 00018: val_accuracy did not improve from 0.98905\n",
            "295/295 [==============================] - 10s 35ms/step - loss: 1.4755 - accuracy: 0.9864 - val_loss: 1.4722 - val_accuracy: 0.9888\n",
            "Epoch 19/150\n",
            "295/295 [==============================] - ETA: 0s - loss: 1.4761 - accuracy: 0.9856\n",
            "Epoch 00019: val_accuracy improved from 0.98905 to 0.99071, saving model to Digit Recognizer/model.hdf5\n",
            "295/295 [==============================] - 11s 37ms/step - loss: 1.4761 - accuracy: 0.9856 - val_loss: 1.4712 - val_accuracy: 0.9907\n",
            "Epoch 20/150\n",
            "295/295 [==============================] - ETA: 0s - loss: 1.4758 - accuracy: 0.9859\n",
            "Epoch 00020: val_accuracy did not improve from 0.99071\n",
            "295/295 [==============================] - 10s 35ms/step - loss: 1.4758 - accuracy: 0.9859 - val_loss: 1.4745 - val_accuracy: 0.9871\n",
            "Epoch 21/150\n",
            "295/295 [==============================] - ETA: 0s - loss: 1.4758 - accuracy: 0.9861\n",
            "Epoch 00021: val_accuracy did not improve from 0.99071\n",
            "295/295 [==============================] - 10s 35ms/step - loss: 1.4758 - accuracy: 0.9861 - val_loss: 1.4726 - val_accuracy: 0.9883\n",
            "Epoch 22/150\n",
            "295/295 [==============================] - ETA: 0s - loss: 1.4759 - accuracy: 0.9857\n",
            "Epoch 00022: val_accuracy did not improve from 0.99071\n",
            "295/295 [==============================] - 10s 35ms/step - loss: 1.4759 - accuracy: 0.9857 - val_loss: 1.4728 - val_accuracy: 0.9890\n",
            "Epoch 23/150\n",
            "295/295 [==============================] - ETA: 0s - loss: 1.4736 - accuracy: 0.9882\n",
            "Epoch 00023: val_accuracy did not improve from 0.99071\n",
            "295/295 [==============================] - 10s 35ms/step - loss: 1.4736 - accuracy: 0.9882 - val_loss: 1.4708 - val_accuracy: 0.9907\n",
            "Epoch 24/150\n",
            "295/295 [==============================] - ETA: 0s - loss: 1.4755 - accuracy: 0.9864\n",
            "Epoch 00024: val_accuracy did not improve from 0.99071\n",
            "295/295 [==============================] - 10s 35ms/step - loss: 1.4755 - accuracy: 0.9864 - val_loss: 1.4732 - val_accuracy: 0.9883\n",
            "Epoch 25/150\n",
            "294/295 [============================>.] - ETA: 0s - loss: 1.4739 - accuracy: 0.9878\n",
            "Epoch 00025: val_accuracy did not improve from 0.99071\n",
            "295/295 [==============================] - 10s 35ms/step - loss: 1.4738 - accuracy: 0.9878 - val_loss: 1.4716 - val_accuracy: 0.9900\n",
            "Epoch 26/150\n",
            "294/295 [============================>.] - ETA: 0s - loss: 1.4735 - accuracy: 0.9886\n",
            "Epoch 00026: val_accuracy did not improve from 0.99071\n",
            "295/295 [==============================] - 10s 35ms/step - loss: 1.4736 - accuracy: 0.9885 - val_loss: 1.4764 - val_accuracy: 0.9848\n",
            "Epoch 27/150\n",
            "295/295 [==============================] - ETA: 0s - loss: 1.4740 - accuracy: 0.9875\n",
            "Epoch 00027: val_accuracy did not improve from 0.99071\n",
            "295/295 [==============================] - 10s 35ms/step - loss: 1.4740 - accuracy: 0.9875 - val_loss: 1.4724 - val_accuracy: 0.9893\n",
            "Epoch 28/150\n",
            "295/295 [==============================] - ETA: 0s - loss: 1.4735 - accuracy: 0.9882\n",
            "Epoch 00028: val_accuracy did not improve from 0.99071\n",
            "295/295 [==============================] - 10s 35ms/step - loss: 1.4735 - accuracy: 0.9882 - val_loss: 1.4733 - val_accuracy: 0.9876\n",
            "Epoch 29/150\n",
            "295/295 [==============================] - ETA: 0s - loss: 1.4739 - accuracy: 0.9879\n",
            "Epoch 00029: val_accuracy did not improve from 0.99071\n",
            "295/295 [==============================] - 10s 35ms/step - loss: 1.4739 - accuracy: 0.9879 - val_loss: 1.4743 - val_accuracy: 0.9874\n",
            "Epoch 30/150\n",
            "294/295 [============================>.] - ETA: 0s - loss: 1.4734 - accuracy: 0.9882\n",
            "Epoch 00030: val_accuracy improved from 0.99071 to 0.99119, saving model to Digit Recognizer/model.hdf5\n",
            "295/295 [==============================] - 11s 37ms/step - loss: 1.4733 - accuracy: 0.9882 - val_loss: 1.4695 - val_accuracy: 0.9912\n",
            "Epoch 31/150\n",
            "294/295 [============================>.] - ETA: 0s - loss: 1.4734 - accuracy: 0.9881\n",
            "Epoch 00031: val_accuracy did not improve from 0.99119\n",
            "295/295 [==============================] - 10s 35ms/step - loss: 1.4733 - accuracy: 0.9881 - val_loss: 1.4725 - val_accuracy: 0.9886\n",
            "Epoch 32/150\n",
            "295/295 [==============================] - ETA: 0s - loss: 1.4735 - accuracy: 0.9879\n",
            "Epoch 00032: val_accuracy improved from 0.99119 to 0.99214, saving model to Digit Recognizer/model.hdf5\n",
            "295/295 [==============================] - 11s 36ms/step - loss: 1.4735 - accuracy: 0.9879 - val_loss: 1.4689 - val_accuracy: 0.9921\n",
            "Epoch 33/150\n",
            "294/295 [============================>.] - ETA: 0s - loss: 1.4731 - accuracy: 0.9887\n",
            "Epoch 00033: val_accuracy did not improve from 0.99214\n",
            "295/295 [==============================] - 10s 35ms/step - loss: 1.4730 - accuracy: 0.9887 - val_loss: 1.4722 - val_accuracy: 0.9886\n",
            "Epoch 34/150\n",
            "295/295 [==============================] - ETA: 0s - loss: 1.4723 - accuracy: 0.9894\n",
            "Epoch 00034: val_accuracy improved from 0.99214 to 0.99262, saving model to Digit Recognizer/model.hdf5\n",
            "295/295 [==============================] - 11s 36ms/step - loss: 1.4723 - accuracy: 0.9894 - val_loss: 1.4686 - val_accuracy: 0.9926\n",
            "Epoch 35/150\n",
            "294/295 [============================>.] - ETA: 0s - loss: 1.4729 - accuracy: 0.9889\n",
            "Epoch 00035: val_accuracy did not improve from 0.99262\n",
            "295/295 [==============================] - 10s 35ms/step - loss: 1.4729 - accuracy: 0.9889 - val_loss: 1.4704 - val_accuracy: 0.9907\n",
            "Epoch 36/150\n",
            "295/295 [==============================] - ETA: 0s - loss: 1.4723 - accuracy: 0.9890\n",
            "Epoch 00036: val_accuracy did not improve from 0.99262\n",
            "295/295 [==============================] - 10s 35ms/step - loss: 1.4723 - accuracy: 0.9890 - val_loss: 1.4703 - val_accuracy: 0.9907\n",
            "Epoch 37/150\n",
            "295/295 [==============================] - ETA: 0s - loss: 1.4715 - accuracy: 0.9902\n",
            "Epoch 00037: val_accuracy did not improve from 0.99262\n",
            "295/295 [==============================] - 10s 35ms/step - loss: 1.4715 - accuracy: 0.9902 - val_loss: 1.4708 - val_accuracy: 0.9907\n",
            "Epoch 38/150\n",
            "294/295 [============================>.] - ETA: 0s - loss: 1.4722 - accuracy: 0.9893\n",
            "Epoch 00038: val_accuracy did not improve from 0.99262\n",
            "295/295 [==============================] - 10s 35ms/step - loss: 1.4721 - accuracy: 0.9894 - val_loss: 1.4713 - val_accuracy: 0.9905\n",
            "Epoch 39/150\n",
            "295/295 [==============================] - ETA: 0s - loss: 1.4718 - accuracy: 0.9895\n",
            "Epoch 00039: val_accuracy improved from 0.99262 to 0.99310, saving model to Digit Recognizer/model.hdf5\n",
            "295/295 [==============================] - 11s 37ms/step - loss: 1.4718 - accuracy: 0.9895 - val_loss: 1.4681 - val_accuracy: 0.9931\n",
            "Epoch 40/150\n",
            "295/295 [==============================] - ETA: 0s - loss: 1.4719 - accuracy: 0.9898\n",
            "Epoch 00040: val_accuracy did not improve from 0.99310\n",
            "295/295 [==============================] - 10s 35ms/step - loss: 1.4719 - accuracy: 0.9898 - val_loss: 1.4750 - val_accuracy: 0.9862\n",
            "Epoch 41/150\n",
            "295/295 [==============================] - ETA: 0s - loss: 1.4715 - accuracy: 0.9899\n",
            "Epoch 00041: val_accuracy did not improve from 0.99310\n",
            "295/295 [==============================] - 10s 35ms/step - loss: 1.4715 - accuracy: 0.9899 - val_loss: 1.4701 - val_accuracy: 0.9917\n",
            "Epoch 42/150\n",
            "294/295 [============================>.] - ETA: 0s - loss: 1.4717 - accuracy: 0.9897\n",
            "Epoch 00042: val_accuracy did not improve from 0.99310\n",
            "295/295 [==============================] - 10s 35ms/step - loss: 1.4718 - accuracy: 0.9896 - val_loss: 1.4706 - val_accuracy: 0.9905\n",
            "Epoch 43/150\n",
            "294/295 [============================>.] - ETA: 0s - loss: 1.4714 - accuracy: 0.9898\n",
            "Epoch 00043: val_accuracy did not improve from 0.99310\n",
            "295/295 [==============================] - 10s 35ms/step - loss: 1.4715 - accuracy: 0.9898 - val_loss: 1.4706 - val_accuracy: 0.9905\n",
            "Epoch 44/150\n",
            "295/295 [==============================] - ETA: 0s - loss: 1.4718 - accuracy: 0.9897\n",
            "Epoch 00044: val_accuracy did not improve from 0.99310\n",
            "295/295 [==============================] - 10s 35ms/step - loss: 1.4718 - accuracy: 0.9897 - val_loss: 1.4733 - val_accuracy: 0.9876\n",
            "Epoch 45/150\n",
            "294/295 [============================>.] - ETA: 0s - loss: 1.4722 - accuracy: 0.9891\n",
            "Epoch 00045: val_accuracy did not improve from 0.99310\n",
            "295/295 [==============================] - 11s 36ms/step - loss: 1.4722 - accuracy: 0.9891 - val_loss: 1.4690 - val_accuracy: 0.9921\n",
            "Epoch 46/150\n",
            "295/295 [==============================] - ETA: 0s - loss: 1.4719 - accuracy: 0.9893\n",
            "Epoch 00046: val_accuracy did not improve from 0.99310\n",
            "295/295 [==============================] - 10s 35ms/step - loss: 1.4719 - accuracy: 0.9893 - val_loss: 1.4710 - val_accuracy: 0.9898\n",
            "Epoch 47/150\n",
            "294/295 [============================>.] - ETA: 0s - loss: 1.4709 - accuracy: 0.9905\n",
            "Epoch 00047: val_accuracy did not improve from 0.99310\n",
            "295/295 [==============================] - 10s 35ms/step - loss: 1.4709 - accuracy: 0.9906 - val_loss: 1.4702 - val_accuracy: 0.9907\n",
            "Epoch 48/150\n",
            "294/295 [============================>.] - ETA: 0s - loss: 1.4710 - accuracy: 0.9903\n",
            "Epoch 00048: val_accuracy improved from 0.99310 to 0.99333, saving model to Digit Recognizer/model.hdf5\n",
            "295/295 [==============================] - 11s 37ms/step - loss: 1.4710 - accuracy: 0.9904 - val_loss: 1.4679 - val_accuracy: 0.9933\n",
            "Epoch 49/150\n",
            "295/295 [==============================] - ETA: 0s - loss: 1.4713 - accuracy: 0.9901\n",
            "Epoch 00049: val_accuracy did not improve from 0.99333\n",
            "295/295 [==============================] - 10s 35ms/step - loss: 1.4713 - accuracy: 0.9901 - val_loss: 1.4681 - val_accuracy: 0.9931\n",
            "Epoch 50/150\n",
            "295/295 [==============================] - ETA: 0s - loss: 1.4716 - accuracy: 0.9900\n",
            "Epoch 00050: val_accuracy did not improve from 0.99333\n",
            "295/295 [==============================] - 10s 35ms/step - loss: 1.4716 - accuracy: 0.9900 - val_loss: 1.4704 - val_accuracy: 0.9905\n",
            "Epoch 51/150\n",
            "294/295 [============================>.] - ETA: 0s - loss: 1.4708 - accuracy: 0.9908\n",
            "Epoch 00051: val_accuracy did not improve from 0.99333\n",
            "295/295 [==============================] - 10s 36ms/step - loss: 1.4708 - accuracy: 0.9908 - val_loss: 1.4684 - val_accuracy: 0.9929\n",
            "Epoch 52/150\n",
            "295/295 [==============================] - ETA: 0s - loss: 1.4704 - accuracy: 0.9911\n",
            "Epoch 00052: val_accuracy did not improve from 0.99333\n",
            "295/295 [==============================] - 10s 35ms/step - loss: 1.4704 - accuracy: 0.9911 - val_loss: 1.4686 - val_accuracy: 0.9931\n",
            "Epoch 53/150\n",
            "295/295 [==============================] - ETA: 0s - loss: 1.4710 - accuracy: 0.9902\n",
            "Epoch 00053: val_accuracy did not improve from 0.99333\n",
            "295/295 [==============================] - 10s 36ms/step - loss: 1.4710 - accuracy: 0.9902 - val_loss: 1.4732 - val_accuracy: 0.9876\n",
            "Epoch 54/150\n",
            "294/295 [============================>.] - ETA: 0s - loss: 1.4697 - accuracy: 0.9915\n",
            "Epoch 00054: val_accuracy did not improve from 0.99333\n",
            "295/295 [==============================] - 10s 35ms/step - loss: 1.4698 - accuracy: 0.9915 - val_loss: 1.4689 - val_accuracy: 0.9926\n",
            "Epoch 55/150\n",
            "295/295 [==============================] - ETA: 0s - loss: 1.4702 - accuracy: 0.9912\n",
            "Epoch 00055: val_accuracy improved from 0.99333 to 0.99357, saving model to Digit Recognizer/model.hdf5\n",
            "295/295 [==============================] - 11s 37ms/step - loss: 1.4702 - accuracy: 0.9912 - val_loss: 1.4680 - val_accuracy: 0.9936\n",
            "Epoch 56/150\n",
            "295/295 [==============================] - ETA: 0s - loss: 1.4693 - accuracy: 0.9920\n",
            "Epoch 00056: val_accuracy did not improve from 0.99357\n",
            "295/295 [==============================] - 10s 36ms/step - loss: 1.4693 - accuracy: 0.9920 - val_loss: 1.4679 - val_accuracy: 0.9936\n",
            "Epoch 57/150\n",
            "295/295 [==============================] - ETA: 0s - loss: 1.4699 - accuracy: 0.9914\n",
            "Epoch 00057: val_accuracy did not improve from 0.99357\n",
            "295/295 [==============================] - 10s 35ms/step - loss: 1.4699 - accuracy: 0.9914 - val_loss: 1.4695 - val_accuracy: 0.9921\n",
            "Epoch 58/150\n",
            "294/295 [============================>.] - ETA: 0s - loss: 1.4699 - accuracy: 0.9917\n",
            "Epoch 00058: val_accuracy did not improve from 0.99357\n",
            "295/295 [==============================] - 10s 35ms/step - loss: 1.4699 - accuracy: 0.9917 - val_loss: 1.4774 - val_accuracy: 0.9840\n",
            "Epoch 59/150\n",
            "295/295 [==============================] - ETA: 0s - loss: 1.4702 - accuracy: 0.9912\n",
            "Epoch 00059: val_accuracy did not improve from 0.99357\n",
            "295/295 [==============================] - 10s 35ms/step - loss: 1.4702 - accuracy: 0.9912 - val_loss: 1.4726 - val_accuracy: 0.9890\n",
            "Epoch 60/150\n",
            "294/295 [============================>.] - ETA: 0s - loss: 1.4697 - accuracy: 0.9918\n",
            "Epoch 00060: val_accuracy did not improve from 0.99357\n",
            "295/295 [==============================] - 10s 35ms/step - loss: 1.4696 - accuracy: 0.9919 - val_loss: 1.4692 - val_accuracy: 0.9919\n",
            "Epoch 61/150\n",
            "295/295 [==============================] - ETA: 0s - loss: 1.4695 - accuracy: 0.9919\n",
            "Epoch 00061: val_accuracy improved from 0.99357 to 0.99405, saving model to Digit Recognizer/model.hdf5\n",
            "295/295 [==============================] - 11s 37ms/step - loss: 1.4695 - accuracy: 0.9919 - val_loss: 1.4675 - val_accuracy: 0.9940\n",
            "Epoch 62/150\n",
            "295/295 [==============================] - ETA: 0s - loss: 1.4688 - accuracy: 0.9926\n",
            "Epoch 00062: val_accuracy did not improve from 0.99405\n",
            "295/295 [==============================] - 10s 35ms/step - loss: 1.4688 - accuracy: 0.9926 - val_loss: 1.4701 - val_accuracy: 0.9907\n",
            "Epoch 63/150\n",
            "295/295 [==============================] - ETA: 0s - loss: 1.4691 - accuracy: 0.9922\n",
            "Epoch 00063: val_accuracy did not improve from 0.99405\n",
            "295/295 [==============================] - 10s 35ms/step - loss: 1.4691 - accuracy: 0.9922 - val_loss: 1.4688 - val_accuracy: 0.9926\n",
            "Epoch 64/150\n",
            "294/295 [============================>.] - ETA: 0s - loss: 1.4706 - accuracy: 0.9909\n",
            "Epoch 00064: val_accuracy did not improve from 0.99405\n",
            "295/295 [==============================] - 10s 35ms/step - loss: 1.4706 - accuracy: 0.9909 - val_loss: 1.4685 - val_accuracy: 0.9929\n",
            "Epoch 65/150\n",
            "294/295 [============================>.] - ETA: 0s - loss: 1.4694 - accuracy: 0.9918\n",
            "Epoch 00065: val_accuracy did not improve from 0.99405\n",
            "295/295 [==============================] - 10s 35ms/step - loss: 1.4695 - accuracy: 0.9917 - val_loss: 1.4686 - val_accuracy: 0.9924\n",
            "Epoch 66/150\n",
            "294/295 [============================>.] - ETA: 0s - loss: 1.4702 - accuracy: 0.9909\n",
            "Epoch 00066: val_accuracy did not improve from 0.99405\n",
            "295/295 [==============================] - 10s 35ms/step - loss: 1.4702 - accuracy: 0.9909 - val_loss: 1.4693 - val_accuracy: 0.9917\n",
            "Epoch 67/150\n",
            "294/295 [============================>.] - ETA: 0s - loss: 1.4690 - accuracy: 0.9925\n",
            "Epoch 00067: val_accuracy did not improve from 0.99405\n",
            "295/295 [==============================] - 10s 35ms/step - loss: 1.4689 - accuracy: 0.9925 - val_loss: 1.4685 - val_accuracy: 0.9931\n",
            "Epoch 68/150\n",
            "294/295 [============================>.] - ETA: 0s - loss: 1.4700 - accuracy: 0.9914\n",
            "Epoch 00068: val_accuracy did not improve from 0.99405\n",
            "295/295 [==============================] - 11s 36ms/step - loss: 1.4700 - accuracy: 0.9914 - val_loss: 1.4716 - val_accuracy: 0.9895\n",
            "Epoch 69/150\n",
            "295/295 [==============================] - ETA: 0s - loss: 1.4690 - accuracy: 0.9925\n",
            "Epoch 00069: val_accuracy did not improve from 0.99405\n",
            "295/295 [==============================] - 10s 36ms/step - loss: 1.4690 - accuracy: 0.9925 - val_loss: 1.4690 - val_accuracy: 0.9917\n",
            "Epoch 70/150\n",
            "294/295 [============================>.] - ETA: 0s - loss: 1.4694 - accuracy: 0.9920\n",
            "Epoch 00070: val_accuracy did not improve from 0.99405\n",
            "295/295 [==============================] - 10s 35ms/step - loss: 1.4694 - accuracy: 0.9920 - val_loss: 1.4679 - val_accuracy: 0.9931\n",
            "Epoch 71/150\n",
            "294/295 [============================>.] - ETA: 0s - loss: 1.4693 - accuracy: 0.9922\n",
            "Epoch 00071: val_accuracy did not improve from 0.99405\n",
            "295/295 [==============================] - 10s 35ms/step - loss: 1.4693 - accuracy: 0.9921 - val_loss: 1.4679 - val_accuracy: 0.9936\n",
            "Epoch 72/150\n",
            "294/295 [============================>.] - ETA: 0s - loss: 1.4691 - accuracy: 0.9921\n",
            "Epoch 00072: val_accuracy did not improve from 0.99405\n",
            "295/295 [==============================] - 10s 35ms/step - loss: 1.4691 - accuracy: 0.9921 - val_loss: 1.4683 - val_accuracy: 0.9929\n",
            "Epoch 73/150\n",
            "294/295 [============================>.] - ETA: 0s - loss: 1.4680 - accuracy: 0.9936\n",
            "Epoch 00073: val_accuracy did not improve from 0.99405\n",
            "295/295 [==============================] - 10s 35ms/step - loss: 1.4680 - accuracy: 0.9936 - val_loss: 1.4684 - val_accuracy: 0.9926\n",
            "Epoch 74/150\n",
            "294/295 [============================>.] - ETA: 0s - loss: 1.4688 - accuracy: 0.9925\n",
            "Epoch 00074: val_accuracy did not improve from 0.99405\n",
            "295/295 [==============================] - 11s 36ms/step - loss: 1.4689 - accuracy: 0.9925 - val_loss: 1.4682 - val_accuracy: 0.9931\n",
            "Epoch 75/150\n",
            "294/295 [============================>.] - ETA: 0s - loss: 1.4692 - accuracy: 0.9923\n",
            "Epoch 00075: val_accuracy did not improve from 0.99405\n",
            "295/295 [==============================] - 11s 36ms/step - loss: 1.4693 - accuracy: 0.9922 - val_loss: 1.4691 - val_accuracy: 0.9921\n",
            "Epoch 76/150\n",
            "294/295 [============================>.] - ETA: 0s - loss: 1.4691 - accuracy: 0.9923\n",
            "Epoch 00076: val_accuracy did not improve from 0.99405\n",
            "295/295 [==============================] - 11s 36ms/step - loss: 1.4691 - accuracy: 0.9923 - val_loss: 1.4685 - val_accuracy: 0.9929\n",
            "Epoch 77/150\n",
            "295/295 [==============================] - ETA: 0s - loss: 1.4694 - accuracy: 0.9919\n",
            "Epoch 00077: val_accuracy did not improve from 0.99405\n",
            "295/295 [==============================] - 10s 35ms/step - loss: 1.4694 - accuracy: 0.9919 - val_loss: 1.4709 - val_accuracy: 0.9905\n",
            "Epoch 78/150\n",
            "294/295 [============================>.] - ETA: 0s - loss: 1.4686 - accuracy: 0.9928\n",
            "Epoch 00078: val_accuracy did not improve from 0.99405\n",
            "295/295 [==============================] - 11s 36ms/step - loss: 1.4686 - accuracy: 0.9928 - val_loss: 1.4707 - val_accuracy: 0.9905\n",
            "Epoch 79/150\n",
            "295/295 [==============================] - ETA: 0s - loss: 1.4684 - accuracy: 0.9929\n",
            "Epoch 00079: val_accuracy did not improve from 0.99405\n",
            "295/295 [==============================] - 11s 36ms/step - loss: 1.4684 - accuracy: 0.9929 - val_loss: 1.4698 - val_accuracy: 0.9910\n",
            "Epoch 80/150\n",
            "295/295 [==============================] - ETA: 0s - loss: 1.4694 - accuracy: 0.9920\n",
            "Epoch 00080: val_accuracy did not improve from 0.99405\n",
            "295/295 [==============================] - 11s 36ms/step - loss: 1.4694 - accuracy: 0.9920 - val_loss: 1.4682 - val_accuracy: 0.9929\n",
            "Epoch 81/150\n",
            "294/295 [============================>.] - ETA: 0s - loss: 1.4687 - accuracy: 0.9925\n",
            "Epoch 00081: val_accuracy did not improve from 0.99405\n",
            "\n",
            "Epoch 00081: ReduceLROnPlateau reducing learning rate to 0.00010000000474974513.\n",
            "295/295 [==============================] - 11s 36ms/step - loss: 1.4687 - accuracy: 0.9925 - val_loss: 1.4708 - val_accuracy: 0.9905\n",
            "Epoch 82/150\n",
            "295/295 [==============================] - ETA: 0s - loss: 1.4665 - accuracy: 0.9949\n",
            "Epoch 00082: val_accuracy did not improve from 0.99405\n",
            "295/295 [==============================] - 11s 36ms/step - loss: 1.4665 - accuracy: 0.9949 - val_loss: 1.4673 - val_accuracy: 0.9936\n",
            "Epoch 83/150\n",
            "294/295 [============================>.] - ETA: 0s - loss: 1.4660 - accuracy: 0.9952\n",
            "Epoch 00083: val_accuracy did not improve from 0.99405\n",
            "295/295 [==============================] - 11s 36ms/step - loss: 1.4660 - accuracy: 0.9952 - val_loss: 1.4672 - val_accuracy: 0.9940\n",
            "Epoch 84/150\n",
            "294/295 [============================>.] - ETA: 0s - loss: 1.4659 - accuracy: 0.9953\n",
            "Epoch 00084: val_accuracy improved from 0.99405 to 0.99429, saving model to Digit Recognizer/model.hdf5\n",
            "295/295 [==============================] - 11s 37ms/step - loss: 1.4659 - accuracy: 0.9952 - val_loss: 1.4666 - val_accuracy: 0.9943\n",
            "Epoch 85/150\n",
            "295/295 [==============================] - ETA: 0s - loss: 1.4657 - accuracy: 0.9955\n",
            "Epoch 00085: val_accuracy improved from 0.99429 to 0.99500, saving model to Digit Recognizer/model.hdf5\n",
            "295/295 [==============================] - 11s 36ms/step - loss: 1.4657 - accuracy: 0.9955 - val_loss: 1.4663 - val_accuracy: 0.9950\n",
            "Epoch 86/150\n",
            "294/295 [============================>.] - ETA: 0s - loss: 1.4653 - accuracy: 0.9961\n",
            "Epoch 00086: val_accuracy did not improve from 0.99500\n",
            "295/295 [==============================] - 11s 36ms/step - loss: 1.4652 - accuracy: 0.9961 - val_loss: 1.4665 - val_accuracy: 0.9948\n",
            "Epoch 87/150\n",
            "295/295 [==============================] - ETA: 0s - loss: 1.4653 - accuracy: 0.9960\n",
            "Epoch 00087: val_accuracy improved from 0.99500 to 0.99548, saving model to Digit Recognizer/model.hdf5\n",
            "295/295 [==============================] - 11s 37ms/step - loss: 1.4653 - accuracy: 0.9960 - val_loss: 1.4658 - val_accuracy: 0.9955\n",
            "Epoch 88/150\n",
            "295/295 [==============================] - ETA: 0s - loss: 1.4651 - accuracy: 0.9963\n",
            "Epoch 00088: val_accuracy did not improve from 0.99548\n",
            "295/295 [==============================] - 11s 36ms/step - loss: 1.4651 - accuracy: 0.9963 - val_loss: 1.4664 - val_accuracy: 0.9948\n",
            "Epoch 89/150\n",
            "295/295 [==============================] - ETA: 0s - loss: 1.4649 - accuracy: 0.9964\n",
            "Epoch 00089: val_accuracy did not improve from 0.99548\n",
            "295/295 [==============================] - 11s 36ms/step - loss: 1.4649 - accuracy: 0.9964 - val_loss: 1.4658 - val_accuracy: 0.9952\n",
            "Epoch 90/150\n",
            "294/295 [============================>.] - ETA: 0s - loss: 1.4647 - accuracy: 0.9966\n",
            "Epoch 00090: val_accuracy did not improve from 0.99548\n",
            "295/295 [==============================] - 11s 36ms/step - loss: 1.4647 - accuracy: 0.9966 - val_loss: 1.4658 - val_accuracy: 0.9955\n",
            "Epoch 91/150\n",
            "294/295 [============================>.] - ETA: 0s - loss: 1.4654 - accuracy: 0.9960\n",
            "Epoch 00091: val_accuracy improved from 0.99548 to 0.99619, saving model to Digit Recognizer/model.hdf5\n",
            "295/295 [==============================] - 11s 37ms/step - loss: 1.4654 - accuracy: 0.9960 - val_loss: 1.4654 - val_accuracy: 0.9962\n",
            "Epoch 92/150\n",
            "294/295 [============================>.] - ETA: 0s - loss: 1.4652 - accuracy: 0.9962\n",
            "Epoch 00092: val_accuracy did not improve from 0.99619\n",
            "295/295 [==============================] - 11s 36ms/step - loss: 1.4652 - accuracy: 0.9962 - val_loss: 1.4658 - val_accuracy: 0.9957\n",
            "Epoch 93/150\n",
            "295/295 [==============================] - ETA: 0s - loss: 1.4650 - accuracy: 0.9963\n",
            "Epoch 00093: val_accuracy did not improve from 0.99619\n",
            "295/295 [==============================] - 11s 36ms/step - loss: 1.4650 - accuracy: 0.9963 - val_loss: 1.4660 - val_accuracy: 0.9952\n",
            "Epoch 94/150\n",
            "294/295 [============================>.] - ETA: 0s - loss: 1.4646 - accuracy: 0.9967\n",
            "Epoch 00094: val_accuracy did not improve from 0.99619\n",
            "295/295 [==============================] - 11s 36ms/step - loss: 1.4646 - accuracy: 0.9967 - val_loss: 1.4657 - val_accuracy: 0.9955\n",
            "Epoch 95/150\n",
            "295/295 [==============================] - ETA: 0s - loss: 1.4643 - accuracy: 0.9969\n",
            "Epoch 00095: val_accuracy did not improve from 0.99619\n",
            "295/295 [==============================] - 10s 36ms/step - loss: 1.4643 - accuracy: 0.9969 - val_loss: 1.4663 - val_accuracy: 0.9948\n",
            "Epoch 96/150\n",
            "294/295 [============================>.] - ETA: 0s - loss: 1.4651 - accuracy: 0.9962\n",
            "Epoch 00096: val_accuracy did not improve from 0.99619\n",
            "295/295 [==============================] - 10s 35ms/step - loss: 1.4651 - accuracy: 0.9962 - val_loss: 1.4657 - val_accuracy: 0.9957\n",
            "Epoch 97/150\n",
            "294/295 [============================>.] - ETA: 0s - loss: 1.4644 - accuracy: 0.9969\n",
            "Epoch 00097: val_accuracy did not improve from 0.99619\n",
            "295/295 [==============================] - 10s 35ms/step - loss: 1.4644 - accuracy: 0.9969 - val_loss: 1.4657 - val_accuracy: 0.9955\n",
            "Epoch 98/150\n",
            "294/295 [============================>.] - ETA: 0s - loss: 1.4648 - accuracy: 0.9965\n",
            "Epoch 00098: val_accuracy did not improve from 0.99619\n",
            "295/295 [==============================] - 11s 36ms/step - loss: 1.4648 - accuracy: 0.9965 - val_loss: 1.4657 - val_accuracy: 0.9957\n",
            "Epoch 99/150\n",
            "295/295 [==============================] - ETA: 0s - loss: 1.4647 - accuracy: 0.9967\n",
            "Epoch 00099: val_accuracy did not improve from 0.99619\n",
            "295/295 [==============================] - 11s 36ms/step - loss: 1.4647 - accuracy: 0.9967 - val_loss: 1.4658 - val_accuracy: 0.9960\n",
            "Epoch 100/150\n",
            "294/295 [============================>.] - ETA: 0s - loss: 1.4642 - accuracy: 0.9970\n",
            "Epoch 00100: val_accuracy did not improve from 0.99619\n",
            "295/295 [==============================] - 11s 36ms/step - loss: 1.4642 - accuracy: 0.9971 - val_loss: 1.4659 - val_accuracy: 0.9955\n",
            "Epoch 101/150\n",
            "294/295 [============================>.] - ETA: 0s - loss: 1.4646 - accuracy: 0.9966\n",
            "Epoch 00101: val_accuracy did not improve from 0.99619\n",
            "295/295 [==============================] - 10s 35ms/step - loss: 1.4646 - accuracy: 0.9966 - val_loss: 1.4662 - val_accuracy: 0.9950\n",
            "Epoch 102/150\n",
            "295/295 [==============================] - ETA: 0s - loss: 1.4644 - accuracy: 0.9969\n",
            "Epoch 00102: val_accuracy did not improve from 0.99619\n",
            "295/295 [==============================] - 10s 35ms/step - loss: 1.4644 - accuracy: 0.9969 - val_loss: 1.4663 - val_accuracy: 0.9945\n",
            "Epoch 103/150\n",
            "295/295 [==============================] - ETA: 0s - loss: 1.4644 - accuracy: 0.9970\n",
            "Epoch 00103: val_accuracy did not improve from 0.99619\n",
            "295/295 [==============================] - 11s 36ms/step - loss: 1.4644 - accuracy: 0.9970 - val_loss: 1.4662 - val_accuracy: 0.9950\n",
            "Epoch 104/150\n",
            "294/295 [============================>.] - ETA: 0s - loss: 1.4646 - accuracy: 0.9967\n",
            "Epoch 00104: val_accuracy did not improve from 0.99619\n",
            "295/295 [==============================] - 11s 36ms/step - loss: 1.4646 - accuracy: 0.9967 - val_loss: 1.4661 - val_accuracy: 0.9952\n",
            "Epoch 105/150\n",
            "295/295 [==============================] - ETA: 0s - loss: 1.4641 - accuracy: 0.9972\n",
            "Epoch 00105: val_accuracy did not improve from 0.99619\n",
            "295/295 [==============================] - 11s 36ms/step - loss: 1.4641 - accuracy: 0.9972 - val_loss: 1.4661 - val_accuracy: 0.9955\n",
            "Epoch 106/150\n",
            "295/295 [==============================] - ETA: 0s - loss: 1.4644 - accuracy: 0.9968\n",
            "Epoch 00106: val_accuracy did not improve from 0.99619\n",
            "295/295 [==============================] - 11s 36ms/step - loss: 1.4644 - accuracy: 0.9968 - val_loss: 1.4658 - val_accuracy: 0.9957\n",
            "Epoch 107/150\n",
            "295/295 [==============================] - ETA: 0s - loss: 1.4643 - accuracy: 0.9970\n",
            "Epoch 00107: val_accuracy did not improve from 0.99619\n",
            "295/295 [==============================] - 10s 35ms/step - loss: 1.4643 - accuracy: 0.9970 - val_loss: 1.4662 - val_accuracy: 0.9950\n",
            "Epoch 108/150\n",
            "295/295 [==============================] - ETA: 0s - loss: 1.4643 - accuracy: 0.9969\n",
            "Epoch 00108: val_accuracy did not improve from 0.99619\n",
            "295/295 [==============================] - 11s 36ms/step - loss: 1.4643 - accuracy: 0.9969 - val_loss: 1.4664 - val_accuracy: 0.9948\n",
            "Epoch 109/150\n",
            "295/295 [==============================] - ETA: 0s - loss: 1.4642 - accuracy: 0.9971\n",
            "Epoch 00109: val_accuracy did not improve from 0.99619\n",
            "295/295 [==============================] - 11s 36ms/step - loss: 1.4642 - accuracy: 0.9971 - val_loss: 1.4664 - val_accuracy: 0.9950\n",
            "Epoch 110/150\n",
            "295/295 [==============================] - ETA: 0s - loss: 1.4641 - accuracy: 0.9973\n",
            "Epoch 00110: val_accuracy did not improve from 0.99619\n",
            "295/295 [==============================] - 11s 36ms/step - loss: 1.4641 - accuracy: 0.9973 - val_loss: 1.4658 - val_accuracy: 0.9955\n",
            "Epoch 111/150\n",
            "295/295 [==============================] - ETA: 0s - loss: 1.4643 - accuracy: 0.9970\n",
            "Epoch 00111: val_accuracy did not improve from 0.99619\n",
            "\n",
            "Epoch 00111: ReduceLROnPlateau reducing learning rate to 1.0000000474974514e-05.\n",
            "295/295 [==============================] - 11s 36ms/step - loss: 1.4643 - accuracy: 0.9970 - val_loss: 1.4660 - val_accuracy: 0.9948\n",
            "Epoch 112/150\n",
            "294/295 [============================>.] - ETA: 0s - loss: 1.4645 - accuracy: 0.9967\n",
            "Epoch 00112: val_accuracy did not improve from 0.99619\n",
            "295/295 [==============================] - 11s 36ms/step - loss: 1.4645 - accuracy: 0.9967 - val_loss: 1.4661 - val_accuracy: 0.9945\n",
            "Epoch 113/150\n",
            "294/295 [============================>.] - ETA: 0s - loss: 1.4640 - accuracy: 0.9973\n",
            "Epoch 00113: val_accuracy did not improve from 0.99619\n",
            "295/295 [==============================] - 10s 36ms/step - loss: 1.4640 - accuracy: 0.9973 - val_loss: 1.4660 - val_accuracy: 0.9948\n",
            "Epoch 114/150\n",
            "295/295 [==============================] - ETA: 0s - loss: 1.4642 - accuracy: 0.9970\n",
            "Epoch 00114: val_accuracy did not improve from 0.99619\n",
            "295/295 [==============================] - 11s 36ms/step - loss: 1.4642 - accuracy: 0.9970 - val_loss: 1.4659 - val_accuracy: 0.9950\n",
            "Epoch 115/150\n",
            "294/295 [============================>.] - ETA: 0s - loss: 1.4642 - accuracy: 0.9973\n",
            "Epoch 00115: val_accuracy did not improve from 0.99619\n",
            "295/295 [==============================] - 11s 36ms/step - loss: 1.4642 - accuracy: 0.9973 - val_loss: 1.4659 - val_accuracy: 0.9950\n",
            "Epoch 116/150\n",
            "295/295 [==============================] - ETA: 0s - loss: 1.4640 - accuracy: 0.9973\n",
            "Epoch 00116: val_accuracy did not improve from 0.99619\n",
            "295/295 [==============================] - 11s 36ms/step - loss: 1.4640 - accuracy: 0.9973 - val_loss: 1.4658 - val_accuracy: 0.9952\n",
            "Epoch 117/150\n",
            "295/295 [==============================] - ETA: 0s - loss: 1.4641 - accuracy: 0.9972\n",
            "Epoch 00117: val_accuracy did not improve from 0.99619\n",
            "295/295 [==============================] - 11s 36ms/step - loss: 1.4641 - accuracy: 0.9972 - val_loss: 1.4658 - val_accuracy: 0.9950\n",
            "Epoch 118/150\n",
            "294/295 [============================>.] - ETA: 0s - loss: 1.4640 - accuracy: 0.9973\n",
            "Epoch 00118: val_accuracy did not improve from 0.99619\n",
            "295/295 [==============================] - 11s 36ms/step - loss: 1.4640 - accuracy: 0.9973 - val_loss: 1.4658 - val_accuracy: 0.9950\n",
            "Epoch 119/150\n",
            "294/295 [============================>.] - ETA: 0s - loss: 1.4639 - accuracy: 0.9974\n",
            "Epoch 00119: val_accuracy did not improve from 0.99619\n",
            "295/295 [==============================] - 11s 36ms/step - loss: 1.4639 - accuracy: 0.9974 - val_loss: 1.4658 - val_accuracy: 0.9950\n",
            "Epoch 120/150\n",
            "295/295 [==============================] - ETA: 0s - loss: 1.4638 - accuracy: 0.9977\n",
            "Epoch 00120: val_accuracy did not improve from 0.99619\n",
            "295/295 [==============================] - 11s 36ms/step - loss: 1.4638 - accuracy: 0.9977 - val_loss: 1.4659 - val_accuracy: 0.9952\n",
            "Epoch 121/150\n",
            "294/295 [============================>.] - ETA: 0s - loss: 1.4640 - accuracy: 0.9972\n",
            "Epoch 00121: val_accuracy did not improve from 0.99619\n",
            "295/295 [==============================] - 11s 36ms/step - loss: 1.4640 - accuracy: 0.9972 - val_loss: 1.4659 - val_accuracy: 0.9950\n",
            "Epoch 122/150\n",
            "294/295 [============================>.] - ETA: 0s - loss: 1.4642 - accuracy: 0.9971\n",
            "Epoch 00122: val_accuracy did not improve from 0.99619\n",
            "295/295 [==============================] - 11s 36ms/step - loss: 1.4641 - accuracy: 0.9971 - val_loss: 1.4658 - val_accuracy: 0.9950\n",
            "Epoch 123/150\n",
            "294/295 [============================>.] - ETA: 0s - loss: 1.4640 - accuracy: 0.9973\n",
            "Epoch 00123: val_accuracy did not improve from 0.99619\n",
            "295/295 [==============================] - 11s 36ms/step - loss: 1.4640 - accuracy: 0.9973 - val_loss: 1.4659 - val_accuracy: 0.9950\n",
            "Epoch 124/150\n",
            "295/295 [==============================] - ETA: 0s - loss: 1.4639 - accuracy: 0.9973\n",
            "Epoch 00124: val_accuracy did not improve from 0.99619\n",
            "295/295 [==============================] - 11s 36ms/step - loss: 1.4639 - accuracy: 0.9973 - val_loss: 1.4659 - val_accuracy: 0.9950\n",
            "Epoch 125/150\n",
            "294/295 [============================>.] - ETA: 0s - loss: 1.4645 - accuracy: 0.9969\n",
            "Epoch 00125: val_accuracy did not improve from 0.99619\n",
            "295/295 [==============================] - 10s 36ms/step - loss: 1.4645 - accuracy: 0.9969 - val_loss: 1.4658 - val_accuracy: 0.9950\n",
            "Epoch 126/150\n",
            "295/295 [==============================] - ETA: 0s - loss: 1.4640 - accuracy: 0.9975\n",
            "Epoch 00126: val_accuracy did not improve from 0.99619\n",
            "295/295 [==============================] - 11s 36ms/step - loss: 1.4640 - accuracy: 0.9975 - val_loss: 1.4658 - val_accuracy: 0.9950\n",
            "Epoch 127/150\n",
            "294/295 [============================>.] - ETA: 0s - loss: 1.4639 - accuracy: 0.9973\n",
            "Epoch 00127: val_accuracy did not improve from 0.99619\n",
            "295/295 [==============================] - 10s 36ms/step - loss: 1.4639 - accuracy: 0.9973 - val_loss: 1.4658 - val_accuracy: 0.9950\n",
            "Epoch 128/150\n",
            "295/295 [==============================] - ETA: 0s - loss: 1.4638 - accuracy: 0.9975\n",
            "Epoch 00128: val_accuracy did not improve from 0.99619\n",
            "295/295 [==============================] - 11s 36ms/step - loss: 1.4638 - accuracy: 0.9975 - val_loss: 1.4658 - val_accuracy: 0.9950\n",
            "Epoch 129/150\n",
            "295/295 [==============================] - ETA: 0s - loss: 1.4639 - accuracy: 0.9974\n",
            "Epoch 00129: val_accuracy did not improve from 0.99619\n",
            "295/295 [==============================] - 11s 36ms/step - loss: 1.4639 - accuracy: 0.9974 - val_loss: 1.4658 - val_accuracy: 0.9950\n",
            "Epoch 130/150\n",
            "294/295 [============================>.] - ETA: 0s - loss: 1.4639 - accuracy: 0.9974\n",
            "Epoch 00130: val_accuracy did not improve from 0.99619\n",
            "295/295 [==============================] - 11s 36ms/step - loss: 1.4638 - accuracy: 0.9975 - val_loss: 1.4658 - val_accuracy: 0.9950\n",
            "Epoch 131/150\n",
            "295/295 [==============================] - ETA: 0s - loss: 1.4639 - accuracy: 0.9973\n",
            "Epoch 00131: val_accuracy did not improve from 0.99619\n",
            "\n",
            "Epoch 00131: ReduceLROnPlateau reducing learning rate to 1.0000000656873453e-06.\n",
            "295/295 [==============================] - 11s 36ms/step - loss: 1.4639 - accuracy: 0.9973 - val_loss: 1.4659 - val_accuracy: 0.9950\n",
            "Epoch 132/150\n",
            "294/295 [============================>.] - ETA: 0s - loss: 1.4640 - accuracy: 0.9973\n",
            "Epoch 00132: val_accuracy did not improve from 0.99619\n",
            "295/295 [==============================] - 11s 36ms/step - loss: 1.4640 - accuracy: 0.9973 - val_loss: 1.4659 - val_accuracy: 0.9950\n",
            "Epoch 133/150\n",
            "294/295 [============================>.] - ETA: 0s - loss: 1.4639 - accuracy: 0.9974\n",
            "Epoch 00133: val_accuracy did not improve from 0.99619\n",
            "295/295 [==============================] - 11s 37ms/step - loss: 1.4639 - accuracy: 0.9974 - val_loss: 1.4659 - val_accuracy: 0.9950\n",
            "Epoch 134/150\n",
            "294/295 [============================>.] - ETA: 0s - loss: 1.4640 - accuracy: 0.9973\n",
            "Epoch 00134: val_accuracy did not improve from 0.99619\n",
            "295/295 [==============================] - 11s 36ms/step - loss: 1.4640 - accuracy: 0.9973 - val_loss: 1.4659 - val_accuracy: 0.9950\n",
            "Epoch 135/150\n",
            "294/295 [============================>.] - ETA: 0s - loss: 1.4638 - accuracy: 0.9975\n",
            "Epoch 00135: val_accuracy did not improve from 0.99619\n",
            "295/295 [==============================] - 11s 36ms/step - loss: 1.4638 - accuracy: 0.9976 - val_loss: 1.4659 - val_accuracy: 0.9950\n",
            "Epoch 136/150\n",
            "294/295 [============================>.] - ETA: 0s - loss: 1.4638 - accuracy: 0.9975\n",
            "Epoch 00136: val_accuracy did not improve from 0.99619\n",
            "295/295 [==============================] - 11s 36ms/step - loss: 1.4637 - accuracy: 0.9975 - val_loss: 1.4658 - val_accuracy: 0.9952\n",
            "Epoch 137/150\n",
            "294/295 [============================>.] - ETA: 0s - loss: 1.4642 - accuracy: 0.9970\n",
            "Epoch 00137: val_accuracy did not improve from 0.99619\n",
            "295/295 [==============================] - 11s 36ms/step - loss: 1.4642 - accuracy: 0.9971 - val_loss: 1.4658 - val_accuracy: 0.9950\n",
            "Epoch 138/150\n",
            "294/295 [============================>.] - ETA: 0s - loss: 1.4639 - accuracy: 0.9975\n",
            "Epoch 00138: val_accuracy did not improve from 0.99619\n",
            "295/295 [==============================] - 11s 36ms/step - loss: 1.4639 - accuracy: 0.9975 - val_loss: 1.4659 - val_accuracy: 0.9950\n",
            "Epoch 139/150\n",
            "294/295 [============================>.] - ETA: 0s - loss: 1.4639 - accuracy: 0.9974\n",
            "Epoch 00139: val_accuracy did not improve from 0.99619\n",
            "295/295 [==============================] - 11s 36ms/step - loss: 1.4639 - accuracy: 0.9974 - val_loss: 1.4659 - val_accuracy: 0.9950\n",
            "Epoch 140/150\n",
            "295/295 [==============================] - ETA: 0s - loss: 1.4640 - accuracy: 0.9974\n",
            "Epoch 00140: val_accuracy did not improve from 0.99619\n",
            "295/295 [==============================] - 11s 36ms/step - loss: 1.4640 - accuracy: 0.9974 - val_loss: 1.4658 - val_accuracy: 0.9952\n",
            "Epoch 141/150\n",
            "295/295 [==============================] - ETA: 0s - loss: 1.4640 - accuracy: 0.9973\n",
            "Epoch 00141: val_accuracy did not improve from 0.99619\n",
            "295/295 [==============================] - 11s 36ms/step - loss: 1.4640 - accuracy: 0.9973 - val_loss: 1.4659 - val_accuracy: 0.9950\n",
            "Epoch 00141: early stopping\n"
          ],
          "name": "stdout"
        },
        {
          "output_type": "execute_result",
          "data": {
            "text/plain": [
              "<tensorflow.python.keras.callbacks.History at 0x7fa954d4b048>"
            ]
          },
          "metadata": {
            "tags": []
          },
          "execution_count": 13
        }
      ]
    },
    {
      "cell_type": "markdown",
      "metadata": {
        "id": "fwulbt3yqTuv"
      },
      "source": [
        "## Load best model"
      ]
    },
    {
      "cell_type": "code",
      "metadata": {
        "id": "l0a4aDWD3j8o"
      },
      "source": [
        "model = keras.models.load_model(\"Digit Recognizer/model.hdf5\")"
      ],
      "execution_count": null,
      "outputs": []
    },
    {
      "cell_type": "markdown",
      "metadata": {
        "id": "ztYerCsOqZ9_"
      },
      "source": [
        "## Predict test and visualize"
      ]
    },
    {
      "cell_type": "code",
      "metadata": {
        "colab": {
          "base_uri": "https://localhost:8080/",
          "height": 589
        },
        "id": "P3_zKrC6G1U2",
        "outputId": "5fc98661-d457-4cfd-b36c-fb2352078649"
      },
      "source": [
        "pred_test = np.argmax(model.predict(x_test), axis=1)\n",
        "plt.figure(figsize=(10,10))\n",
        "for i in range(25):\n",
        "    index = np.random.randint(0, len(x_test)+1)\n",
        "    plt.subplot(5,5,i+1)\n",
        "    plt.imshow(x_test[index, :, :, 0], cmap='gray')\n",
        "    plt.xlabel(pred_test[index])\n",
        "    plt.grid(False)\n",
        "    plt.xticks([])\n",
        "    plt.yticks([])\n",
        "plt.show()"
      ],
      "execution_count": null,
      "outputs": [
        {
          "output_type": "display_data",
          "data": {
            "image/png": "[encoded data removed]",
            "text/plain": [
              "<Figure size 720x720 with 25 Axes>"
            ]
          },
          "metadata": {
            "tags": []
          }
        }
      ]
    },
    {
      "cell_type": "markdown",
      "metadata": {
        "id": "XLsUtrigrvpY"
      },
      "source": [
        "## Create submission csv"
      ]
    },
    {
      "cell_type": "code",
      "metadata": {
        "colab": {
          "base_uri": "https://localhost:8080/",
          "height": 419
        },
        "id": "JjUObWwlp5YC",
        "outputId": "13fb7931-b2f4-4844-cff2-4e4491667291"
      },
      "source": [
        "df_submission[\"Label\"] = pred_test\n",
        "df_submission.to_csv(\"Digit Recognizer/submission.csv\", index=False)\n",
        "df_submission"
      ],
      "execution_count": null,
      "outputs": [
        {
          "output_type": "execute_result",
          "data": {
            "text/html": [
              "<div>\n",
              "<style scoped>\n",
              "    .dataframe tbody tr th:only-of-type {\n",
              "        vertical-align: middle;\n",
              "    }\n",
              "\n",
              "    .dataframe tbody tr th {\n",
              "        vertical-align: top;\n",
              "    }\n",
              "\n",
              "    .dataframe thead th {\n",
              "        text-align: right;\n",
              "    }\n",
              "</style>\n",
              "<table border=\"1\" class=\"dataframe\">\n",
              "  <thead>\n",
              "    <tr style=\"text-align: right;\">\n",
              "      <th></th>\n",
              "      <th>ImageId</th>\n",
              "      <th>Label</th>\n",
              "    </tr>\n",
              "  </thead>\n",
              "  <tbody>\n",
              "    <tr>\n",
              "      <th>0</th>\n",
              "      <td>1</td>\n",
              "      <td>2</td>\n",
              "    </tr>\n",
              "    <tr>\n",
              "      <th>1</th>\n",
              "      <td>2</td>\n",
              "      <td>0</td>\n",
              "    </tr>\n",
              "    <tr>\n",
              "      <th>2</th>\n",
              "      <td>3</td>\n",
              "      <td>9</td>\n",
              "    </tr>\n",
              "    <tr>\n",
              "      <th>3</th>\n",
              "      <td>4</td>\n",
              "      <td>0</td>\n",
              "    </tr>\n",
              "    <tr>\n",
              "      <th>4</th>\n",
              "      <td>5</td>\n",
              "      <td>3</td>\n",
              "    </tr>\n",
              "    <tr>\n",
              "      <th>...</th>\n",
              "      <td>...</td>\n",
              "      <td>...</td>\n",
              "    </tr>\n",
              "    <tr>\n",
              "      <th>27995</th>\n",
              "      <td>27996</td>\n",
              "      <td>9</td>\n",
              "    </tr>\n",
              "    <tr>\n",
              "      <th>27996</th>\n",
              "      <td>27997</td>\n",
              "      <td>7</td>\n",
              "    </tr>\n",
              "    <tr>\n",
              "      <th>27997</th>\n",
              "      <td>27998</td>\n",
              "      <td>3</td>\n",
              "    </tr>\n",
              "    <tr>\n",
              "      <th>27998</th>\n",
              "      <td>27999</td>\n",
              "      <td>9</td>\n",
              "    </tr>\n",
              "    <tr>\n",
              "      <th>27999</th>\n",
              "      <td>28000</td>\n",
              "      <td>2</td>\n",
              "    </tr>\n",
              "  </tbody>\n",
              "</table>\n",
              "<p>28000 rows × 2 columns</p>\n",
              "</div>"
            ],
            "text/plain": [
              "       ImageId  Label\n",
              "0            1      2\n",
              "1            2      0\n",
              "2            3      9\n",
              "3            4      0\n",
              "4            5      3\n",
              "...        ...    ...\n",
              "27995    27996      9\n",
              "27996    27997      7\n",
              "27997    27998      3\n",
              "27998    27999      9\n",
              "27999    28000      2\n",
              "\n",
              "[28000 rows x 2 columns]"
            ]
          },
          "metadata": {
            "tags": []
          },
          "execution_count": 16
        }
      ]
    },
    {
      "cell_type": "code",
      "metadata": {
        "id": "48-CS79YrreG"
      },
      "source": [
        "# Rank225/2582 (Top 9%) YaYYYYYYY (2020-12-05)\r\n",
        "# Rank235/2769 (Top 9%) YaYYYYYYY (2020-12-12)"
      ],
      "execution_count": null,
      "outputs": []
    },
    {
      "cell_type": "code",
      "metadata": {
        "id": "yv0mfPH3tR1t"
      },
      "source": [
        ""
      ],
      "execution_count": null,
      "outputs": []
    }
  ]
}